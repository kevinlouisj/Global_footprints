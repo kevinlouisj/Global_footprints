{
 "cells": [
  {
   "cell_type": "code",
   "execution_count": 1,
   "id": "c86856c2",
   "metadata": {
    "_cell_guid": "b1076dfc-b9ad-4769-8c92-a6c4dae69d19",
    "_uuid": "8f2839f25d086af736a60e9eeb907d3b93b6e0e5",
    "execution": {
     "iopub.execute_input": "2022-04-22T13:16:51.206722Z",
     "iopub.status.busy": "2022-04-22T13:16:51.206191Z",
     "iopub.status.idle": "2022-04-22T13:16:51.218321Z",
     "shell.execute_reply": "2022-04-22T13:16:51.217809Z"
    },
    "papermill": {
     "duration": 0.021039,
     "end_time": "2022-04-22T13:16:51.220317",
     "exception": false,
     "start_time": "2022-04-22T13:16:51.199278",
     "status": "completed"
    },
    "tags": []
   },
   "outputs": [],
   "source": [
    "# This Python 3 environment comes with many helpful analytics libraries installed\n",
    "# It is defined by the kaggle/python Docker image: https://github.com/kaggle/docker-python\n",
    "# For example, here's several helpful packages to load\n",
    "\n",
    "import numpy as np # linear algebra\n",
    "import pandas as pd # data processing, CSV file I/O (e.g. pd.read_csv)\n",
    "\n",
    "# Input data files are available in the read-only \"../input/\" directory\n",
    "# For example, running this (by clicking run or pressing Shift+Enter) will list all files under the input directory\n",
    "\n",
    "import os\n",
    "for dirname, _, filenames in os.walk('/kaggle/input'):\n",
    "    for filename in filenames:\n",
    "        print(os.path.join(dirname, filename))\n",
    "\n",
    "# You can write up to 20GB to the current directory (/kaggle/working/) that gets preserved as output when you create a version using \"Save & Run All\" \n",
    "# You can also write temporary files to /kaggle/temp/, but they won't be saved outside of the current session"
   ]
  },
  {
   "cell_type": "code",
   "execution_count": 2,
   "id": "7fef14f7",
   "metadata": {
    "execution": {
     "iopub.execute_input": "2022-04-22T13:16:51.231159Z",
     "iopub.status.busy": "2022-04-22T13:16:51.230722Z",
     "iopub.status.idle": "2022-04-22T13:16:51.928794Z",
     "shell.execute_reply": "2022-04-22T13:16:51.928055Z"
    },
    "papermill": {
     "duration": 0.705642,
     "end_time": "2022-04-22T13:16:51.930758",
     "exception": false,
     "start_time": "2022-04-22T13:16:51.225116",
     "status": "completed"
    },
    "tags": []
   },
   "outputs": [],
   "source": [
    "data = pd.read_html('https://www.overshootday.org/how-many-earths-or-countries-do-we-need/')\n",
    "df = data"
   ]
  },
  {
   "cell_type": "code",
   "execution_count": 3,
   "id": "c3a8e4e3",
   "metadata": {
    "execution": {
     "iopub.execute_input": "2022-04-22T13:16:51.940285Z",
     "iopub.status.busy": "2022-04-22T13:16:51.940053Z",
     "iopub.status.idle": "2022-04-22T13:16:51.956141Z",
     "shell.execute_reply": "2022-04-22T13:16:51.955597Z"
    },
    "papermill": {
     "duration": 0.022951,
     "end_time": "2022-04-22T13:16:51.958031",
     "exception": false,
     "start_time": "2022-04-22T13:16:51.935080",
     "status": "completed"
    },
    "tags": []
   },
   "outputs": [
    {
     "data": {
      "text/plain": [
       "[                               Country  Number of Countries required  \\\n",
       " 0                          Afghanistan                           2.0   \n",
       " 1                              Albania                           1.9   \n",
       " 2                              Algeria                           4.1   \n",
       " 3                               Angola                           0.5   \n",
       " 4                  Antigua and Barbuda                           5.4   \n",
       " ..                                 ...                           ...   \n",
       " 183  Venezuela, Bolivarian Republic of                           0.9   \n",
       " 184                           Viet Nam                           2.4   \n",
       " 185                              Yemen                           1.4   \n",
       " 186                             Zambia                           0.7   \n",
       " 187                           Zimbabwe                           2.0   \n",
       " \n",
       "      Number of Earths required  \n",
       " 0                          0.4  \n",
       " 1                          1.2  \n",
       " 2                          1.5  \n",
       " 3                          0.5  \n",
       " 4                          2.9  \n",
       " ..                         ...  \n",
       " 183                        1.5  \n",
       " 184                        1.4  \n",
       " 185                        0.3  \n",
       " 186                        0.8  \n",
       " 187                        0.8  \n",
       " \n",
       " [188 rows x 3 columns]]"
      ]
     },
     "execution_count": 3,
     "metadata": {},
     "output_type": "execute_result"
    }
   ],
   "source": [
    "df"
   ]
  },
  {
   "cell_type": "code",
   "execution_count": null,
   "id": "7c288ee0",
   "metadata": {
    "papermill": {
     "duration": 0.00457,
     "end_time": "2022-04-22T13:16:51.968501",
     "exception": false,
     "start_time": "2022-04-22T13:16:51.963931",
     "status": "completed"
    },
    "tags": []
   },
   "outputs": [],
   "source": []
  }
 ],
 "metadata": {
  "kernelspec": {
   "display_name": "Python 3",
   "language": "python",
   "name": "python3"
  },
  "language_info": {
   "codemirror_mode": {
    "name": "ipython",
    "version": 3
   },
   "file_extension": ".py",
   "mimetype": "text/x-python",
   "name": "python",
   "nbconvert_exporter": "python",
   "pygments_lexer": "ipython3",
   "version": "3.7.12"
  },
  "papermill": {
   "default_parameters": {},
   "duration": 10.150298,
   "end_time": "2022-04-22T13:16:52.795165",
   "environment_variables": {},
   "exception": null,
   "input_path": "__notebook__.ipynb",
   "output_path": "__notebook__.ipynb",
   "parameters": {},
   "start_time": "2022-04-22T13:16:42.644867",
   "version": "2.3.4"
  }
 },
 "nbformat": 4,
 "nbformat_minor": 5
}
